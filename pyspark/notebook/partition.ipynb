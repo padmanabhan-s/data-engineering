{
 "cells": [
  {
   "cell_type": "code",
   "execution_count": 4,
   "metadata": {},
   "outputs": [],
   "source": [
    "from pyspark.sql import SparkSession"
   ]
  },
  {
   "cell_type": "code",
   "execution_count": 5,
   "metadata": {},
   "outputs": [],
   "source": [
    "spark = SparkSession.builder.appName('learning').getOrCreate()"
   ]
  },
  {
   "cell_type": "code",
   "execution_count": 6,
   "metadata": {},
   "outputs": [
    {
     "name": "stderr",
     "output_type": "stream",
     "text": [
      "                                                                                \r"
     ]
    }
   ],
   "source": [
    "# we can read text file using the df as well \n",
    "df = spark.read.csv('../samples/customers-100.csv',inferSchema=True,header=True)"
   ]
  },
  {
   "cell_type": "code",
   "execution_count": 7,
   "metadata": {},
   "outputs": [
    {
     "data": {
      "text/plain": [
       "1"
      ]
     },
     "execution_count": 7,
     "metadata": {},
     "output_type": "execute_result"
    }
   ],
   "source": [
    "# getNumPartitions is a method in the rdd inorder to use it in the df use df.rdd\n",
    "df.rdd.getNumPartitions()"
   ]
  },
  {
   "cell_type": "code",
   "execution_count": 18,
   "metadata": {},
   "outputs": [],
   "source": [
    "# reading text file into dataframe\n",
    "textDf = spark.read.text('../samples/intro.txt')"
   ]
  },
  {
   "cell_type": "code",
   "execution_count": 19,
   "metadata": {},
   "outputs": [
    {
     "name": "stdout",
     "output_type": "stream",
     "text": [
      "+------------------------------------------------------------------------------------------------------------------------------------------------------------------------------------------------------------------------------------------------------------------------------------------------------------------------------------------------------------------------------------------------------------------------------------------------------------------------------------------------------------------------------------------------------------------------------+\n",
      "|value                                                                                                                                                                                                                                                                                                                                                                                                                                                                                                                                                                         |\n",
      "+------------------------------------------------------------------------------------------------------------------------------------------------------------------------------------------------------------------------------------------------------------------------------------------------------------------------------------------------------------------------------------------------------------------------------------------------------------------------------------------------------------------------------------------------------------------------------+\n",
      "|In this article, I’d like to reacquaint you with the humble workhorse of communication that is the paragraph. Paragraphs are everywhere. In fact, at the high risk of stating the obvious, you are reading one now. Despite their ubiquity, we frequently neglect their presentation. This is a mistake.                                                                                                                                                                                                                                                                      |\n",
      "|This is a mistake. Here, we’ll refer to some time-honored typesetting conventions, with an emphasis on readability, and offer guidance on adapting them effectively for devices and screens. We’ll see that the ability to embed fonts with @font-face is not by itself a solution to all of our typographic challenges.                                                                                                                                                                                                                                                      |\n",
      "|                                                                                                                                                                                                                                                                                                                                                                                                                                                                                                                                                                              |\n",
      "|Be sure to check out the following articles:                                                                                                                                                                                                                                                                                                                                                                                                                                                                                                                                  |\n",
      "|                                                                                                                                                                                                                                                                                                                                                                                                                                                                                                                                                                              |\n",
      "|8 Simple Ways to Improve Typography In Your Designs                                                                                                                                                                                                                                                                                                                                                                                                                                                                                                                           |\n",
      "|How To Become a Better Reader                                                                                                                                                                                                                                                                                                                                                                                                                                                                                                                                                 |\n",
      "|Photoshop-Inspired Techniques with 100% CSS                                                                                                                                                                                                                                                                                                                                                                                                                                                                                                                                   |\n",
      "|Applying Macrotypography For A More Readable Web Page                                                                                                                                                                                                                                                                                                                                                                                                                                                                                                                         |\n",
      "|A Web Of Words #                                                                                                                                                                                                                                                                                                                                                                                                                                                                                                                                                              |\n",
      "|In 1992, Tim Berners-Lee circulated a document titled “HTML Tags,” which outlined just 20 tags, many of which are now obsolete or have taken other forms. The first surviving tag to be defined in the document, after the crucial anchor tag, is the paragraph tag. It wasn’t until 1993 that a discussion emerged on the proposed image tag.                                                                                                                                                                                                                                |\n",
      "|                                                                                                                                                                                                                                                                                                                                                                                                                                                                                                                                                                              |\n",
      "|Meet Smashing Workshops on front-end, design & UX, with practical takeaways, live sessions, video recordings and a friendly Q&A. With Brad Frost, Stéph Walter and so many others.                                                                                                                                                                                                                                                                                                                                                                                            |\n",
      "|                                                                                                                                                                                                                                                                                                                                                                                                                                                                                                                                                                              |\n",
      "|Jump to the workshops ↬                                                                                                                                                                                                                                                                                                                                                                                                                                                                                                                                                       |\n",
      "|Feature Panel                                                                                                                                                                                                                                                                                                                                                                                                                                                                                                                                                                 |\n",
      "|Bursting with imagery, motion, interaction and distraction though it is, today’s World Wide Web is still primarily a conduit for textual information. In HTML5, the focus on writing and authorship is more pronounced than ever. It’s evident in the very way that new elements such as article and aside are named. HTML5 asks us to treat the HTML document more as… well, a document.                                                                                                                                                                                     |\n",
      "|                                                                                                                                                                                                                                                                                                                                                                                                                                                                                                                                                                              |\n",
      "|It’s not just the specifications that are changing, either. Much has been made of permutations to Google’s algorithms, which are beginning to favor better written, more authoritative content (and making work for the growing content strategy industry). Google’s bots are now charged with asking questions like, “Was the article edited well, or does it appear sloppy or hastily produced?” and “Does this article provide a complete or comprehensive description of the topic?,” the sorts of questions one might expect to be posed by an earnest college professor.|\n",
      "|                                                                                                                                                                                                                                                                                                                                                                                                                                                                                                                                                                              |\n",
      "+------------------------------------------------------------------------------------------------------------------------------------------------------------------------------------------------------------------------------------------------------------------------------------------------------------------------------------------------------------------------------------------------------------------------------------------------------------------------------------------------------------------------------------------------------------------------------+\n",
      "only showing top 20 rows\n",
      "\n"
     ]
    }
   ],
   "source": [
    "textDf.show(truncate=False)"
   ]
  },
  {
   "cell_type": "code",
   "execution_count": 20,
   "metadata": {},
   "outputs": [
    {
     "data": {
      "text/plain": [
       "1"
      ]
     },
     "execution_count": 20,
     "metadata": {},
     "output_type": "execute_result"
    }
   ],
   "source": [
    "textDf.rdd.getNumPartitions()"
   ]
  },
  {
   "cell_type": "code",
   "execution_count": 30,
   "metadata": {},
   "outputs": [
    {
     "name": "stdout",
     "output_type": "stream",
     "text": [
      "4\n"
     ]
    }
   ],
   "source": [
    "# textDf = textDf.rdd.repartition(4)     # this convert the df into rdd. We can directly use the repartition in the df\n",
    "textDf = textDf.repartition(4)\n",
    "\n",
    "print(textDf.rdd.getNumPartitions())"
   ]
  },
  {
   "cell_type": "markdown",
   "metadata": {},
   "source": []
  },
  {
   "cell_type": "code",
   "execution_count": 31,
   "metadata": {},
   "outputs": [
    {
     "data": {
      "text/plain": [
       "pyspark.sql.dataframe.DataFrame"
      ]
     },
     "execution_count": 31,
     "metadata": {},
     "output_type": "execute_result"
    }
   ],
   "source": [
    "type(textDf)"
   ]
  },
  {
   "cell_type": "code",
   "execution_count": 32,
   "metadata": {},
   "outputs": [],
   "source": [
    "# to do word count program using need to import lib\n",
    "from pyspark.sql.functions import explode,split,col,lower"
   ]
  },
  {
   "cell_type": "code",
   "execution_count": null,
   "metadata": {},
   "outputs": [],
   "source": [
    "words_df = textDf.select(explode(split(lower(df['values']))))"
   ]
  },
  {
   "cell_type": "code",
   "execution_count": 36,
   "metadata": {},
   "outputs": [
    {
     "name": "stdout",
     "output_type": "stream",
     "text": [
      "+--------------------+\n",
      "|               value|\n",
      "+--------------------+\n",
      "|Meet Smashing Wor...|\n",
      "|    A Web Of Words #|\n",
      "|                    |\n",
      "|In this article, ...|\n",
      "|How To Become a B...|\n",
      "|This is a mistake...|\n",
      "|This increased su...|\n",
      "|                    |\n",
      "|                    |\n",
      "|Be sure to check ...|\n",
      "|Applying Macrotyp...|\n",
      "|8 Simple Ways to ...|\n",
      "|Jump to the works...|\n",
      "|                    |\n",
      "|                    |\n",
      "|It’s not just the...|\n",
      "|       Feature Panel|\n",
      "|In 1992, Tim Bern...|\n",
      "|                    |\n",
      "|Bursting with ima...|\n",
      "+--------------------+\n",
      "only showing top 20 rows\n",
      "\n"
     ]
    }
   ],
   "source": [
    "textDf.show()"
   ]
  },
  {
   "cell_type": "code",
   "execution_count": 37,
   "metadata": {},
   "outputs": [
    {
     "name": "stdout",
     "output_type": "stream",
     "text": [
      "+--------------------+\n",
      "|        lower(value)|\n",
      "+--------------------+\n",
      "|meet smashing wor...|\n",
      "|    a web of words #|\n",
      "|                    |\n",
      "|in this article, ...|\n",
      "|how to become a b...|\n",
      "|this is a mistake...|\n",
      "|this increased su...|\n",
      "|                    |\n",
      "|                    |\n",
      "|be sure to check ...|\n",
      "|applying macrotyp...|\n",
      "|8 simple ways to ...|\n",
      "|jump to the works...|\n",
      "|                    |\n",
      "|                    |\n",
      "|it’s not just the...|\n",
      "|       feature panel|\n",
      "|in 1992, tim bern...|\n",
      "|                    |\n",
      "|bursting with ima...|\n",
      "+--------------------+\n",
      "only showing top 20 rows\n",
      "\n"
     ]
    }
   ],
   "source": [
    "textDf.select(lower(textDf['value'])).show()"
   ]
  },
  {
   "cell_type": "code",
   "execution_count": null,
   "metadata": {},
   "outputs": [],
   "source": []
  }
 ],
 "metadata": {
  "kernelspec": {
   "display_name": "BigdataEnv",
   "language": "python",
   "name": "python3"
  },
  "language_info": {
   "codemirror_mode": {
    "name": "ipython",
    "version": 3
   },
   "file_extension": ".py",
   "mimetype": "text/x-python",
   "name": "python",
   "nbconvert_exporter": "python",
   "pygments_lexer": "ipython3",
   "version": "3.12.3"
  }
 },
 "nbformat": 4,
 "nbformat_minor": 2
}
