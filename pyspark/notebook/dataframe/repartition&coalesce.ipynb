{
  "nbformat": 4,
  "nbformat_minor": 0,
  "metadata": {
    "colab": {
      "provenance": []
    },
    "kernelspec": {
      "name": "python3",
      "display_name": "Python 3"
    },
    "language_info": {
      "name": "python"
    }
  },
  "cells": [
    {
      "cell_type": "markdown",
      "source": [
        "### Repartition\n",
        "It is expensive operation used to reshuffle the data. It is wider transformations so use it wisely.\n",
        "\n",
        "* Used to increase / decrease the number of partitions of RDD / Data Frame\n",
        "* 2 Parameters ( numPartitions,*cols)\n",
        "* We can specify any one of the parameters\n",
        "* If param not defined then default value will be taken\n"
      ],
      "metadata": {
        "id": "S-xQOsywfUPT"
      }
    },
    {
      "cell_type": "code",
      "execution_count": null,
      "metadata": {
        "id": "waNG2o3BfQ0-"
      },
      "outputs": [],
      "source": [
        "# Creating a data frame\n",
        "from pyspark.sql import SparkSession\n",
        "\n",
        "spark = SparkSession.builder.appName(\"learning\").getOrCreate()"
      ]
    },
    {
      "cell_type": "code",
      "source": [
        "# Reading data from csv file - with automatic schema detection\n",
        "\n",
        "df = spark.read.format('csv').option('header',True).load('sample_data/customers-100.csv')"
      ],
      "metadata": {
        "id": "CjjAd_zngovK"
      },
      "execution_count": null,
      "outputs": []
    },
    {
      "cell_type": "code",
      "source": [
        "# Write to csv file\n",
        "\n",
        "# Number of part file generated is equal to the number of partitions\n",
        "\n",
        "df.write.option('mode','overwrite').save('sample_data/output')\n",
        "df.rdd.getNumPartitions()\n"
      ],
      "metadata": {
        "id": "33ZDAnTikdg6",
        "colab": {
          "base_uri": "https://localhost:8080/"
        },
        "outputId": "d5abeb67-bcfc-4d5e-b236-0fd546d5dd5a"
      },
      "execution_count": null,
      "outputs": [
        {
          "output_type": "execute_result",
          "data": {
            "text/plain": [
              "1"
            ]
          },
          "metadata": {},
          "execution_count": 3
        }
      ]
    },
    {
      "cell_type": "code",
      "source": [
        "# Changing the partition count using the repartition()\n",
        "\n",
        "df2 = df.repartition(numPartitions=9)\n",
        "df2.rdd.getNumPartitions()\n",
        "df2.write.format('csv').mode('overwrite').save('sample_data/output_df2') # Changed the output path\n"
      ],
      "metadata": {
        "id": "bsIO9-P7ke7i"
      },
      "execution_count": null,
      "outputs": []
    },
    {
      "cell_type": "code",
      "source": [
        "df2.show()"
      ],
      "metadata": {
        "colab": {
          "base_uri": "https://localhost:8080/"
        },
        "id": "r-LRD3igbmlF",
        "outputId": "049179fc-e0fc-4c6b-922b-4c3d12824407"
      },
      "execution_count": null,
      "outputs": [
        {
          "output_type": "stream",
          "name": "stdout",
          "text": [
            "+-----+---------------+----------+-----------+--------------------+------------------+--------------------+--------------------+--------------------+--------------------+-----------------+--------------------+\n",
            "|Index|    Customer Id|First Name|  Last Name|             Company|              City|             Country|             Phone 1|             Phone 2|               Email|Subscription Date|             Website|\n",
            "+-----+---------------+----------+-----------+--------------------+------------------+--------------------+--------------------+--------------------+--------------------+-----------------+--------------------+\n",
            "|   42|6e5ad5a5e2bB5Ca|     Bryan|       Dunn|    Kaufman and Sons|     North Jimstad|        Burkina Faso|    001-710-802-5565|  078.699.8982x13881|woodwardandres@ph...|       2021-09-08|http://www.butler...|\n",
            "|    6|2d08FB17EE273F4|     Aimee|      Downs|        Steele Group|     Chavezborough|Bosnia and Herzeg...| (283)437-3886x88321|        999-728-1637| louis27@gilbert.com|       2020-02-25|http://www.berger...|\n",
            "|    1|DD37Cf93aecA6Dc|    Sheryl|     Baxter|     Rasmussen Group|      East Leonard|               Chile|        229.077.5154|    397.884.0519x718|zunigavanessa@smi...|       2020-08-24|http://www.stephe...|\n",
            "|  100|2354a0E336A91A1|  Clarence|     Haynes|  Le, Nash and Cross|         Judymouth|            Honduras|       (753)813-6941|        783.639.1472|colleen91@faulkne...|       2020-03-11|http://www.hatfie...|\n",
            "|   72|Ef859092FbEcC07|   Richard|       Roth|      Conway-Mcbride|  New Jasmineshire|             Morocco|        581-440-6539|          9857827463|aharper@maddox-to...|       2020-02-23|https://www.brook...|\n",
            "|   59|8c7DdF10798bCC3|     Kathy|       Hill|Moore, Mccoy and ...|        Selenabury|South Georgia and...|001-171-716-2175x310|        888.625.0654|ncamacho@boone-si...|       2020-11-15|  http://hayden.com/|\n",
            "|   71|CBCd2Ac8E3eBDF9|Alexandria|       Buck|       Keller-Coffey|       Nicolasfort|                Iran|  078-900-4760x76668|  414-112-8700x68751|   lee48@manning.com|       2021-02-20| https://ramsey.org/|\n",
            "|   78|FfaeFFbbbf280db|   Cassidy|    Mcmahon|Mcguire, Huynh an...|Lake Sherryborough|             Myanmar|          5040771311|   684-682-0021x1326|katrinalane@fitzg...|       2020-10-21|  https://hurst.com/|\n",
            "|   53|faCEF517ae7D8eB|  Patricia|    Goodwin|Christian, Winter...|         Cowanfort|           Swaziland|  322.549.7139x70040|       (111)741-4173|vaughanchristy@la...|       2021-03-08|  http://clark.info/|\n",
            "|   62|9Cf5E6AFE0aeBfd|   Shelley|     Harris|Prince, Malone an...|Port Jasminborough|                Togo|   423.098.0315x8373|+1-386-458-8944x1...|zachary96@mitchel...|       2020-12-10|https://www.ryan....|\n",
            "|   46|fD780ED8dbEae7B|    Joanne|     Montes|Price, Sexton and...|     Gwendolynview|               Palau|       (897)726-7952|  (467)886-9467x5721|   juan80@henson.net|       2020-07-01|   http://ochoa.com/|\n",
            "|   35|aA9BAFfBc3710fe|     Faith|       Moon|Waters, Chase and...|  West Marthaburgh|             Bahamas|+1-586-217-0359x6317|     +1-818-199-1403|willistonya@rando...|       2021-11-03|https://spencer-c...|\n",
            "|   29|3B5dAAFA41AFa22|  Stefanie|Fitzpatrick|       Santana-Duran|      Acevedoville|Saint Vincent and...|       (752)776-3286|+1-472-021-4814x8...|  wterrell@clark.com|       2020-07-30| https://meyers.com/|\n",
            "|   33|7Ce381e4Afa4ba9|   Gabriel|      Mejia|      Adkins-Salinas|     Port Annatown|       Liechtenstein|          4077245425|  646.044.0696x66800|coleolson@jenning...|       2021-04-24|https://patel-han...|\n",
            "|   68|a014Ec1b9FccC1E|       Tom|   Alvarado| Donaldson-Dougherty|  South Sophiaberg|            Kiribati|  (585)606-2980x2258|   730-797-3594x5614|nicholsonnina@mon...|       2020-08-18|http://odom-masse...|\n",
            "|   55|f3BEf3Be028166f|     Robin|       West|Nixon, Blackwell ...|         Wallstown|             Ecuador|        698.303.4267|001-683-837-7651x525|greenemiranda@zim...|       2022-01-13|https://www.mora....|\n",
            "|    7|EA4d384DfDbBf77|    Darren|       Peck|Lester, Woodard a...|          Lake Ana|    Pitcairn Islands|  (496)452-6181x3291|+1-247-266-0963x4995| tgates@cantrell.com|       2021-08-24| https://www.le.com/|\n",
            "|   60|C681dDd0cc422f7|     Kelli|      Hardy|           Petty Ltd|         Huangfort|Sao Tome and Prin...|   020.324.2191x2022|        424-157-8216|kristopher62@oliv...|       2020-12-20|http://www.kidd.com/|\n",
            "|    3|6F94879bDAfE5a6|       Roy|      Berry|       Murillo-Perry|     Isabelborough| Antigua and Barbuda|     +1-539-402-0259| (496)978-3969x58947| beckycarr@hogan.com|       2020-03-25|http://www.lawren...|\n",
            "|   87|ebe77E5Bf9476CE|     Duane|      Woods|      Montoya-Miller|         Lyonsberg|            Maldives|  (636)544-7783x7288|  (203)287-1003x5932|  kmercer@wagner.com|       2020-07-21|  http://murray.org/|\n",
            "+-----+---------------+----------+-----------+--------------------+------------------+--------------------+--------------------+--------------------+--------------------+-----------------+--------------------+\n",
            "only showing top 20 rows\n",
            "\n"
          ]
        }
      ]
    },
    {
      "cell_type": "code",
      "source": [
        "# Repartition using the col names\n",
        "\n",
        "from pyspark.sql.functions import col\n",
        "df3 = df2.repartition(5,col(\"Company\"))\n",
        "df3.write.format('csv').mode('overwrite').save('sample_data/output_df2')\n"
      ],
      "metadata": {
        "id": "OiA2i4tolrg5"
      },
      "execution_count": null,
      "outputs": []
    },
    {
      "cell_type": "markdown",
      "source": [
        "### Repartition in RDD\n",
        "* parallelize()\n",
        "* textFile()\n",
        "* wholeTextFiles()"
      ],
      "metadata": {
        "id": "OYgfsBEIcs1m"
      }
    },
    {
      "cell_type": "code",
      "source": [
        "# Parallelise method\n",
        "\n",
        "rdd = spark.sparkContext.parallelize((1,20))\n",
        "print('Default rdd partition : ',rdd.getNumPartitions())\n",
        "\n",
        "rdd2 = spark.sparkContext.parallelize((1,20),7)\n",
        "print('Updated rdd partition count : ',rdd2.getNumPartitions())\n",
        "\n",
        "rdd3 = spark.sparkContext.textFile('sample_data/customers-100.csv',5)\n",
        "print('Text file partition count : ',rdd3.getNumPartitions())"
      ],
      "metadata": {
        "colab": {
          "base_uri": "https://localhost:8080/"
        },
        "id": "k90oDfDMbwoU",
        "outputId": "f014d18f-0ffd-414d-858c-e657243f5a85"
      },
      "execution_count": null,
      "outputs": [
        {
          "output_type": "stream",
          "name": "stdout",
          "text": [
            "Default rdd partition :  2\n",
            "Updated rdd partition count :  7\n",
            "Text file partition count :  5\n"
          ]
        }
      ]
    },
    {
      "cell_type": "markdown",
      "source": [
        "### Coalesce\n",
        "Decrease the partition count"
      ],
      "metadata": {
        "id": "_NXcmOYBBx-9"
      }
    },
    {
      "cell_type": "code",
      "source": [
        "# Rdd coalesce\n",
        "rdd = spark.sparkContext.textFile('sample_data/customers-100.csv',5)\n",
        "rdd.getNumPartitions()"
      ],
      "metadata": {
        "id": "uV9sJ14Jb0cX",
        "colab": {
          "base_uri": "https://localhost:8080/"
        },
        "outputId": "15fd7b2a-040e-42f3-ff76-ac0c0a4acfb5"
      },
      "execution_count": null,
      "outputs": [
        {
          "output_type": "execute_result",
          "data": {
            "text/plain": [
              "5"
            ]
          },
          "metadata": {},
          "execution_count": 5
        }
      ]
    },
    {
      "cell_type": "code",
      "source": [
        "rdd2 = rdd.coalesce(2)"
      ],
      "metadata": {
        "id": "UjW5sJUcEnmC"
      },
      "execution_count": null,
      "outputs": []
    },
    {
      "cell_type": "code",
      "source": [
        "rdd2.getNumPartitions()"
      ],
      "metadata": {
        "colab": {
          "base_uri": "https://localhost:8080/"
        },
        "id": "dHZYAsO9FU8V",
        "outputId": "73badcce-ebec-4da3-ba75-cb72d33cb428"
      },
      "execution_count": null,
      "outputs": [
        {
          "output_type": "execute_result",
          "data": {
            "text/plain": [
              "2"
            ]
          },
          "metadata": {},
          "execution_count": 11
        }
      ]
    },
    {
      "cell_type": "code",
      "source": [
        "# df coalesce\n",
        "\n",
        "df = spark.range(1,20)\n",
        "df.rdd.getNumPartitions()"
      ],
      "metadata": {
        "colab": {
          "base_uri": "https://localhost:8080/"
        },
        "id": "LBsXTr7DFX0D",
        "outputId": "de0ea78c-80a9-4764-c13e-6b25169b85fb"
      },
      "execution_count": null,
      "outputs": [
        {
          "output_type": "execute_result",
          "data": {
            "text/plain": [
              "2"
            ]
          },
          "metadata": {},
          "execution_count": 12
        }
      ]
    },
    {
      "cell_type": "code",
      "source": [
        "df = df.coalesce(1)\n",
        "df.rdd.getNumPartitions()"
      ],
      "metadata": {
        "colab": {
          "base_uri": "https://localhost:8080/"
        },
        "id": "dQA1E--NFxTZ",
        "outputId": "c5107407-10bc-44ea-bd9a-dbcfc91da61f"
      },
      "execution_count": null,
      "outputs": [
        {
          "output_type": "execute_result",
          "data": {
            "text/plain": [
              "1"
            ]
          },
          "metadata": {},
          "execution_count": 15
        }
      ]
    },
    {
      "cell_type": "markdown",
      "source": [
        "### Shuffle Partition\n",
        "* Number of shuffle spark perform while doing joins, group by and aggregrations.\n",
        "* Default shuffle partition: 200."
      ],
      "metadata": {
        "id": "uAQDBV2nHVXi"
      }
    },
    {
      "cell_type": "code",
      "source": [
        "df = spark.read.format('csv').option('header',True).load('sample_data/customers-100.csv')"
      ],
      "metadata": {
        "id": "Cmi82RVCF1m5"
      },
      "execution_count": null,
      "outputs": []
    },
    {
      "cell_type": "code",
      "source": [
        "df.show(10)"
      ],
      "metadata": {
        "colab": {
          "base_uri": "https://localhost:8080/"
        },
        "id": "jBI8MqzsIQ7d",
        "outputId": "7494e1c0-88b9-4952-f006-a5c19aae6630"
      },
      "execution_count": null,
      "outputs": [
        {
          "output_type": "stream",
          "name": "stdout",
          "text": [
            "+-----+---------------+----------+---------+--------------------+-----------------+--------------------+--------------------+--------------------+--------------------+-----------------+--------------------+\n",
            "|Index|    Customer Id|First Name|Last Name|             Company|             City|             Country|             Phone 1|             Phone 2|               Email|Subscription Date|             Website|\n",
            "+-----+---------------+----------+---------+--------------------+-----------------+--------------------+--------------------+--------------------+--------------------+-----------------+--------------------+\n",
            "|    1|DD37Cf93aecA6Dc|    Sheryl|   Baxter|     Rasmussen Group|     East Leonard|               Chile|        229.077.5154|    397.884.0519x718|zunigavanessa@smi...|       2020-08-24|http://www.stephe...|\n",
            "|    2|1Ef7b82A4CAAD10|   Preston|   Lozano|         Vega-Gentry|East Jimmychester|            Djibouti|          5153435776|    686-620-1820x944|     vmata@colon.com|       2021-04-23|http://www.hobbs....|\n",
            "|    3|6F94879bDAfE5a6|       Roy|    Berry|       Murillo-Perry|    Isabelborough| Antigua and Barbuda|     +1-539-402-0259| (496)978-3969x58947| beckycarr@hogan.com|       2020-03-25|http://www.lawren...|\n",
            "|    4|5Cef8BFA16c5e3c|     Linda|    Olsen|Dominguez, Mcmill...|       Bensonview|  Dominican Republic|001-808-617-6467x...|     +1-813-324-8756|stanleyblackwell@...|       2020-06-02|http://www.good-l...|\n",
            "|    5|053d585Ab6b3159|    Joanna|   Bender|Martin, Lang and ...|   West Priscilla|Slovakia (Slovak ...|001-234-203-0635x...|001-199-446-3860x...|colinalvarado@mil...|       2021-04-17|https://goodwin-i...|\n",
            "|    6|2d08FB17EE273F4|     Aimee|    Downs|        Steele Group|    Chavezborough|Bosnia and Herzeg...| (283)437-3886x88321|        999-728-1637| louis27@gilbert.com|       2020-02-25|http://www.berger...|\n",
            "|    7|EA4d384DfDbBf77|    Darren|     Peck|Lester, Woodard a...|         Lake Ana|    Pitcairn Islands|  (496)452-6181x3291|+1-247-266-0963x4995| tgates@cantrell.com|       2021-08-24| https://www.le.com/|\n",
            "|    8|0e04AFde9f225dE|     Brett|   Mullen|Sanford, Davenpor...|          Kimport|            Bulgaria|001-583-352-7197x297|    001-333-145-0369|     asnow@colon.com|       2021-04-12|https://hammond-r...|\n",
            "|    9|C2dE4dEEc489ae0|    Sheryl|   Meyers|      Browning-Simon|     Robersonstad|              Cyprus|   854-138-4911x5772| +1-448-910-2276x729|mariokhan@ryan-po...|       2020-01-13|https://www.bullo...|\n",
            "|   10|8C2811a503C7c5a|  Michelle|Gallagher|        Beck-Hendrix|       Elaineberg|         Timor-Leste|    739.218.2516x459|001-054-401-0347x617|   mdyer@escobar.net|       2021-11-08|  https://arias.com/|\n",
            "+-----+---------------+----------+---------+--------------------+-----------------+--------------------+--------------------+--------------------+--------------------+-----------------+--------------------+\n",
            "only showing top 10 rows\n",
            "\n"
          ]
        }
      ]
    },
    {
      "cell_type": "code",
      "source": [
        "df2 = df.groupBy('Company').count()"
      ],
      "metadata": {
        "id": "BzXoMgAVIdAh"
      },
      "execution_count": null,
      "outputs": []
    },
    {
      "cell_type": "code",
      "source": [
        "df2.rdd.getNumPartitions()"
      ],
      "metadata": {
        "colab": {
          "base_uri": "https://localhost:8080/"
        },
        "id": "GgDx5fyQIji4",
        "outputId": "6147ef8d-3c6e-4822-e056-e9200a6bb210"
      },
      "execution_count": null,
      "outputs": [
        {
          "output_type": "execute_result",
          "data": {
            "text/plain": [
              "1"
            ]
          },
          "metadata": {},
          "execution_count": 21
        }
      ]
    },
    {
      "cell_type": "code",
      "source": [
        "df2.show()"
      ],
      "metadata": {
        "colab": {
          "base_uri": "https://localhost:8080/"
        },
        "id": "LCsxRcExInax",
        "outputId": "75f2ed57-5e44-429a-997d-ed856abbae10"
      },
      "execution_count": null,
      "outputs": [
        {
          "output_type": "stream",
          "name": "stdout",
          "text": [
            "+--------------------+-----+\n",
            "|             Company|count|\n",
            "+--------------------+-----+\n",
            "|Palmer, Barnes an...|    1|\n",
            "|           Novak LLC|    1|\n",
            "|      Caldwell Group|    1|\n",
            "|      Carter-Hancock|    1|\n",
            "|      Greer and Sons|    1|\n",
            "|    Osborne-Erickson|    1|\n",
            "|Fitzpatrick-Lawrence|    1|\n",
            "|     Perkins-Trevino|    1|\n",
            "|     Decker-Mcknight|    1|\n",
            "|       Murillo-Perry|    1|\n",
            "|Prince, Malone an...|    1|\n",
            "|Martin, Lang and ...|    1|\n",
            "|Coffey, Lamb and ...|    1|\n",
            "|Waters, Chase and...|    1|\n",
            "|        Steele Group|    1|\n",
            "|   Carter-Strickland|    1|\n",
            "|           Petty Ltd|    1|\n",
            "|Lee, Lucero and J...|    1|\n",
            "|        Guzman-Brown|    1|\n",
            "|Mcdonald, Bird an...|    1|\n",
            "+--------------------+-----+\n",
            "only showing top 20 rows\n",
            "\n"
          ]
        }
      ]
    },
    {
      "cell_type": "code",
      "source": [
        "df3 = df2.repartition(5)"
      ],
      "metadata": {
        "id": "glIok9UoJ9HZ"
      },
      "execution_count": null,
      "outputs": []
    },
    {
      "cell_type": "code",
      "source": [
        "df3.rdd.getNumPartitions()"
      ],
      "metadata": {
        "colab": {
          "base_uri": "https://localhost:8080/"
        },
        "id": "YBYgHL5pKHes",
        "outputId": "b6e999a2-7e1a-4ff4-9a8f-c1ce1b540d5d"
      },
      "execution_count": null,
      "outputs": [
        {
          "output_type": "execute_result",
          "data": {
            "text/plain": [
              "5"
            ]
          },
          "metadata": {},
          "execution_count": 24
        }
      ]
    },
    {
      "cell_type": "code",
      "source": [],
      "metadata": {
        "id": "kshJ8kPeKK8U"
      },
      "execution_count": null,
      "outputs": []
    }
  ]
}