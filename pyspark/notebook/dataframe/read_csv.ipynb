{
  "cells": [
    {
      "cell_type": "markdown",
      "metadata": {
        "id": "AMPPBqck4XFY"
      },
      "source": [
        "### Creating Spark Session"
      ]
    },
    {
      "cell_type": "code",
      "execution_count": null,
      "metadata": {
        "id": "ZwYT1TjBwln8"
      },
      "outputs": [],
      "source": [
        "from pyspark.sql import SparkSession\n",
        "spark = SparkSession.builder.appName('read-csv').getOrCreate()"
      ]
    },
    {
      "cell_type": "code",
      "execution_count": null,
      "metadata": {
        "colab": {
          "base_uri": "https://localhost:8080/",
          "height": 221
        },
        "id": "nKgRlztqw2Kl",
        "outputId": "7575c07b-983d-4b43-89d0-284aa51d5aea"
      },
      "outputs": [
        {
          "data": {
            "text/html": [
              "\n",
              "            <div>\n",
              "                <p><b>SparkSession - in-memory</b></p>\n",
              "                \n",
              "        <div>\n",
              "            <p><b>SparkContext</b></p>\n",
              "\n",
              "            <p><a href=\"http://70aa024be3a4:4040\">Spark UI</a></p>\n",
              "\n",
              "            <dl>\n",
              "              <dt>Version</dt>\n",
              "                <dd><code>v3.5.3</code></dd>\n",
              "              <dt>Master</dt>\n",
              "                <dd><code>local[*]</code></dd>\n",
              "              <dt>AppName</dt>\n",
              "                <dd><code>read-csv</code></dd>\n",
              "            </dl>\n",
              "        </div>\n",
              "        \n",
              "            </div>\n",
              "        "
            ],
            "text/plain": [
              "<pyspark.sql.session.SparkSession at 0x7e1dc9865180>"
            ]
          },
          "execution_count": 3,
          "metadata": {},
          "output_type": "execute_result"
        }
      ],
      "source": [
        "spark.getActiveSession()"
      ]
    },
    {
      "cell_type": "markdown",
      "metadata": {
        "id": "UZFu07Jp1VV6"
      },
      "source": [
        "### Create DF using the data from csv file"
      ]
    },
    {
      "cell_type": "code",
      "execution_count": null,
      "metadata": {
        "colab": {
          "base_uri": "https://localhost:8080/"
        },
        "id": "jvUTd37fypFE",
        "outputId": "89846dca-c494-4046-d72a-b6f3232b1078"
      },
      "outputs": [
        {
          "name": "stdout",
          "output_type": "stream",
          "text": [
            "+-----+---------------+----------+---------+---------------+------------+-------+------------+----------------+--------------------+-----------------+--------------------+\n",
            "|  _c0|            _c1|       _c2|      _c3|            _c4|         _c5|    _c6|         _c7|             _c8|                 _c9|             _c10|                _c11|\n",
            "+-----+---------------+----------+---------+---------------+------------+-------+------------+----------------+--------------------+-----------------+--------------------+\n",
            "|Index|    Customer Id|First Name|Last Name|        Company|        City|Country|     Phone 1|         Phone 2|               Email|Subscription Date|             Website|\n",
            "|    1|DD37Cf93aecA6Dc|    Sheryl|   Baxter|Rasmussen Group|East Leonard|  Chile|229.077.5154|397.884.0519x718|zunigavanessa@smi...|       2020-08-24|http://www.stephe...|\n",
            "+-----+---------------+----------+---------+---------------+------------+-------+------------+----------------+--------------------+-----------------+--------------------+\n",
            "only showing top 2 rows\n",
            "\n",
            "root\n",
            " |-- _c0: string (nullable = true)\n",
            " |-- _c1: string (nullable = true)\n",
            " |-- _c2: string (nullable = true)\n",
            " |-- _c3: string (nullable = true)\n",
            " |-- _c4: string (nullable = true)\n",
            " |-- _c5: string (nullable = true)\n",
            " |-- _c6: string (nullable = true)\n",
            " |-- _c7: string (nullable = true)\n",
            " |-- _c8: string (nullable = true)\n",
            " |-- _c9: string (nullable = true)\n",
            " |-- _c10: string (nullable = true)\n",
            " |-- _c11: string (nullable = true)\n",
            "\n"
          ]
        }
      ],
      "source": [
        "# Method 1 : Using spark.read.csv()\n",
        "\n",
        "file_path = 'sample_data/customers-100.csv'\n",
        "df = spark.read.csv(file_path)\n",
        "\n",
        "df.show(2)\n",
        "df.printSchema()"
      ]
    },
    {
      "cell_type": "code",
      "execution_count": null,
      "metadata": {
        "colab": {
          "base_uri": "https://localhost:8080/"
        },
        "id": "zg-pAJtezj4j",
        "outputId": "d1d54363-83ba-44fa-a57e-14f4c8d1fd8a"
      },
      "outputs": [
        {
          "name": "stdout",
          "output_type": "stream",
          "text": [
            "root\n",
            " |-- _c0: string (nullable = true)\n",
            " |-- _c1: string (nullable = true)\n",
            " |-- _c2: string (nullable = true)\n",
            " |-- _c3: string (nullable = true)\n",
            " |-- _c4: string (nullable = true)\n",
            " |-- _c5: string (nullable = true)\n",
            " |-- _c6: string (nullable = true)\n",
            " |-- _c7: string (nullable = true)\n",
            " |-- _c8: string (nullable = true)\n",
            " |-- _c9: string (nullable = true)\n",
            " |-- _c10: string (nullable = true)\n",
            " |-- _c11: string (nullable = true)\n",
            "\n"
          ]
        }
      ],
      "source": [
        "# Method 2 : spark.read.format().load()\n",
        "\n",
        "df = spark.read.format('csv').load(file_path)\n",
        "df.printSchema()"
      ]
    },
    {
      "cell_type": "code",
      "execution_count": null,
      "metadata": {
        "id": "zPa6MXo-2Gdb"
      },
      "outputs": [],
      "source": []
    },
    {
      "cell_type": "code",
      "execution_count": null,
      "metadata": {
        "colab": {
          "base_uri": "https://localhost:8080/"
        },
        "id": "AllENewd1yYT",
        "outputId": "d8591aae-d665-4407-cc7f-a43df8bb1219"
      },
      "outputs": [
        {
          "name": "stdout",
          "output_type": "stream",
          "text": [
            "+-----+---------------+----------+---------+--------------------+-----------------+--------------------+--------------------+--------------------+--------------------+-----------------+--------------------+\n",
            "|Index|    Customer Id|First Name|Last Name|             Company|             City|             Country|             Phone 1|             Phone 2|               Email|Subscription Date|             Website|\n",
            "+-----+---------------+----------+---------+--------------------+-----------------+--------------------+--------------------+--------------------+--------------------+-----------------+--------------------+\n",
            "|    1|DD37Cf93aecA6Dc|    Sheryl|   Baxter|     Rasmussen Group|     East Leonard|               Chile|        229.077.5154|    397.884.0519x718|zunigavanessa@smi...|       2020-08-24|http://www.stephe...|\n",
            "|    2|1Ef7b82A4CAAD10|   Preston|   Lozano|         Vega-Gentry|East Jimmychester|            Djibouti|          5153435776|    686-620-1820x944|     vmata@colon.com|       2021-04-23|http://www.hobbs....|\n",
            "|    3|6F94879bDAfE5a6|       Roy|    Berry|       Murillo-Perry|    Isabelborough| Antigua and Barbuda|     +1-539-402-0259| (496)978-3969x58947| beckycarr@hogan.com|       2020-03-25|http://www.lawren...|\n",
            "|    4|5Cef8BFA16c5e3c|     Linda|    Olsen|Dominguez, Mcmill...|       Bensonview|  Dominican Republic|001-808-617-6467x...|     +1-813-324-8756|stanleyblackwell@...|       2020-06-02|http://www.good-l...|\n",
            "|    5|053d585Ab6b3159|    Joanna|   Bender|Martin, Lang and ...|   West Priscilla|Slovakia (Slovak ...|001-234-203-0635x...|001-199-446-3860x...|colinalvarado@mil...|       2021-04-17|https://goodwin-i...|\n",
            "|    6|2d08FB17EE273F4|     Aimee|    Downs|        Steele Group|    Chavezborough|Bosnia and Herzeg...| (283)437-3886x88321|        999-728-1637| louis27@gilbert.com|       2020-02-25|http://www.berger...|\n",
            "|    7|EA4d384DfDbBf77|    Darren|     Peck|Lester, Woodard a...|         Lake Ana|    Pitcairn Islands|  (496)452-6181x3291|+1-247-266-0963x4995| tgates@cantrell.com|       2021-08-24| https://www.le.com/|\n",
            "|    8|0e04AFde9f225dE|     Brett|   Mullen|Sanford, Davenpor...|          Kimport|            Bulgaria|001-583-352-7197x297|    001-333-145-0369|     asnow@colon.com|       2021-04-12|https://hammond-r...|\n",
            "|    9|C2dE4dEEc489ae0|    Sheryl|   Meyers|      Browning-Simon|     Robersonstad|              Cyprus|   854-138-4911x5772| +1-448-910-2276x729|mariokhan@ryan-po...|       2020-01-13|https://www.bullo...|\n",
            "|   10|8C2811a503C7c5a|  Michelle|Gallagher|        Beck-Hendrix|       Elaineberg|         Timor-Leste|    739.218.2516x459|001-054-401-0347x617|   mdyer@escobar.net|       2021-11-08|  https://arias.com/|\n",
            "|   11|216E205d6eBb815|      Carl|Schroeder|Oconnell, Meza an...|     Shannonville|            Guernsey|    637-854-0256x825|    114.336.0784x788|  kirksalas@webb.com|       2021-10-20|https://simmons-h...|\n",
            "|   12|CEDec94deE6d69B|     Jenna|   Dodson|Hoffman, Reed and...|      East Andrea|             Vietnam|       (041)737-3846|+1-556-888-3485x4...|  mark42@robbins.com|       2020-11-29|http://www.dougla...|\n",
            "|   13|e35426EbDEceaFF|    Tracey|     Mata|      Graham-Francis|South Joannamouth|                Togo|    001-949-844-8787|       (855)713-8773|    alex56@walls.org|       2021-12-02|http://www.beck.com/|\n",
            "|   14|A08A8aF8BE9FaD4|  Kristine|      Cox|      Carpenter-Cook|         Jodyberg|           Sri Lanka|  786-284-3358x62152|+1-315-627-1796x8074|holdenmiranda@cla...|       2021-02-08|https://www.brand...|\n",
            "|   15|6fEaA1b7cab7B6C|     Faith|     Lutz|      Carter-Hancock|        Burchbury|           Singapore|  (781)861-7180x8306|        207-185-3665|cassieparrish@ble...|       2022-01-26|http://stevenson....|\n",
            "|   16|8cad0b4CBceaeec|   Miranda|  Beasley|  Singleton and Sons|     Desireeshire|                Oman|    540.085.3135x185|+1-600-462-6432x2...|vduncan@parks-har...|       2022-04-12|  http://acosta.org/|\n",
            "|   17|a5DC21AE3a21eaA|  Caroline|    Foley|     Winters-Mendoza|West Adriennestad|      Western Sahara|   936.222.4746x9924|001-469-948-6341x359|holtgwendolyn@wat...|       2021-03-10|http://www.benson...|\n",
            "|   18|F8Aa9d6DfcBeeF8|      Greg|     Mata|       Valentine LLC|      Lake Leslie|          Mozambique|       (701)087-2415| (195)156-1861x26241|jaredjuarez@carro...|       2022-03-26|http://pitts-cher...|\n",
            "|   19|F160f5Db3EfE973|  Clifford| Jacobson|           Simon LLC|       Harmonview|South Georgia and...|001-151-330-3524x...|       (748)477-7174|joseph26@jacobson...|       2020-09-24|https://mcconnell...|\n",
            "|   20|0F60FF3DdCd7aB0|    Joanna|     Kirk|      Mays-Mccormick|       Jamesshire|    French Polynesia|   (266)131-7001x711| (283)312-5579x11543|tuckerangie@salaz...|       2021-09-24|https://www.camac...|\n",
            "+-----+---------------+----------+---------+--------------------+-----------------+--------------------+--------------------+--------------------+--------------------+-----------------+--------------------+\n",
            "only showing top 20 rows\n",
            "\n"
          ]
        }
      ],
      "source": [
        "df = spark.read.csv(file_path,header=True)\n",
        "df.show()"
      ]
    },
    {
      "cell_type": "code",
      "execution_count": null,
      "metadata": {
        "id": "ZdxnFVIX2DGT"
      },
      "outputs": [],
      "source": []
    },
    {
      "cell_type": "markdown",
      "metadata": {
        "id": "SNJrFg5d4bZq"
      },
      "source": [
        "### List of params for 'Options' for csv"
      ]
    },
    {
      "cell_type": "code",
      "execution_count": null,
      "metadata": {
        "colab": {
          "base_uri": "https://localhost:8080/"
        },
        "id": "8K0O8ftZ4iqQ",
        "outputId": "ca93d424-49db-4dbe-9ba1-1f6acf30d3e4"
      },
      "outputs": [
        {
          "name": "stdout",
          "output_type": "stream",
          "text": [
            "root\n",
            " |-- Index: integer (nullable = true)\n",
            " |-- Customer Id: string (nullable = true)\n",
            " |-- First Name: string (nullable = true)\n",
            " |-- Last Name: string (nullable = true)\n",
            " |-- Company: string (nullable = true)\n",
            " |-- City: string (nullable = true)\n",
            " |-- Country: string (nullable = true)\n",
            " |-- Phone 1: string (nullable = true)\n",
            " |-- Phone 2: string (nullable = true)\n",
            " |-- Email: string (nullable = true)\n",
            " |-- Subscription Date: date (nullable = true)\n",
            " |-- Website: string (nullable = true)\n",
            "\n"
          ]
        }
      ],
      "source": [
        "# Different ways to define the options\n",
        "\n",
        "# Method - 1\n",
        "df = spark.read.option('header',True).option('inferschema',True).csv(file_path)\n",
        "df.printSchema()"
      ]
    },
    {
      "cell_type": "code",
      "execution_count": null,
      "metadata": {
        "colab": {
          "base_uri": "https://localhost:8080/"
        },
        "id": "7HXYVnm15PPt",
        "outputId": "39627d76-fbd8-4e8b-f34b-d2daa442d90d"
      },
      "outputs": [
        {
          "name": "stdout",
          "output_type": "stream",
          "text": [
            "root\n",
            " |-- Index: integer (nullable = true)\n",
            " |-- Customer Id: string (nullable = true)\n",
            " |-- First Name: string (nullable = true)\n",
            " |-- Last Name: string (nullable = true)\n",
            " |-- Company: string (nullable = true)\n",
            " |-- City: string (nullable = true)\n",
            " |-- Country: string (nullable = true)\n",
            " |-- Phone 1: string (nullable = true)\n",
            " |-- Phone 2: string (nullable = true)\n",
            " |-- Email: string (nullable = true)\n",
            " |-- Subscription Date: date (nullable = true)\n",
            " |-- Website: string (nullable = true)\n",
            "\n"
          ]
        }
      ],
      "source": [
        "# Method - 2\n",
        "df = spark.read.csv(file_path,header=True, inferSchema=True)\n",
        "df.printSchema()"
      ]
    },
    {
      "cell_type": "code",
      "execution_count": null,
      "metadata": {
        "colab": {
          "base_uri": "https://localhost:8080/"
        },
        "id": "r8y_5pT15QXl",
        "outputId": "33973129-fcb2-4953-cc15-4d5ef2e72958"
      },
      "outputs": [
        {
          "name": "stdout",
          "output_type": "stream",
          "text": [
            "+-----+---------------+----------+---------+---------------+-----------------+--------+------------+----------------+--------------------+-----------------+--------------------+\n",
            "|Index|    Customer Id|First Name|Last Name|        Company|             City| Country|     Phone 1|         Phone 2|               Email|Subscription Date|             Website|\n",
            "+-----+---------------+----------+---------+---------------+-----------------+--------+------------+----------------+--------------------+-----------------+--------------------+\n",
            "|    1|DD37Cf93aecA6Dc|    Sheryl|   Baxter|Rasmussen Group|     East Leonard|   Chile|229.077.5154|397.884.0519x718|zunigavanessa@smi...|       2020-08-24|http://www.stephe...|\n",
            "|    2|1Ef7b82A4CAAD10|   Preston|   Lozano|    Vega-Gentry|East Jimmychester|Djibouti|  5153435776|686-620-1820x944|     vmata@colon.com|       2021-04-23|http://www.hobbs....|\n",
            "+-----+---------------+----------+---------+---------------+-----------------+--------+------------+----------------+--------------------+-----------------+--------------------+\n",
            "only showing top 2 rows\n",
            "\n",
            "root\n",
            " |-- Index: integer (nullable = true)\n",
            " |-- Customer Id: string (nullable = true)\n",
            " |-- First Name: string (nullable = true)\n",
            " |-- Last Name: string (nullable = true)\n",
            " |-- Company: string (nullable = true)\n",
            " |-- City: string (nullable = true)\n",
            " |-- Country: string (nullable = true)\n",
            " |-- Phone 1: string (nullable = true)\n",
            " |-- Phone 2: string (nullable = true)\n",
            " |-- Email: string (nullable = true)\n",
            " |-- Subscription Date: date (nullable = true)\n",
            " |-- Website: string (nullable = true)\n",
            "\n"
          ]
        }
      ],
      "source": [
        "# Method - 3\n",
        "\n",
        "options_dict = {\n",
        "    'header':True,\n",
        "    'inferSchema':True,\n",
        "    'delimiter':',',           # we can also use 'sep'\n",
        "    'encoding':'UTF-8',\n",
        "   #  'timestampFormat':'YYYY-MM-DD' - Raise Error\n",
        "    'timestampFormat':'yyyy-MM-dd',\n",
        "    'quote':'\"',                # default: \"\n",
        "    'escape':'\\\\',\n",
        "    'multiline':True,\n",
        "    'nullValue':'NA',\n",
        "\n",
        "}\n",
        "\n",
        "df = spark.read.options(**options_dict).csv(file_path)\n",
        "df.show(2)\n",
        "df.printSchema()"
      ]
    },
    {
      "cell_type": "markdown",
      "metadata": {
        "id": "xwlPkMBN8XAP"
      },
      "source": [
        "**Error Details:**\n",
        "The error SparkUpgradeException: [INCONSISTENT_BEHAVIOR_CROSS_VERSION.DATETIME_PATTERN_RECOGNITION] ... is raised because the timestampFormat option in your options_dict is set to YYYY-MM-DD, which is not a valid datetime pattern recognized by Spark 3.0 and later. Spark's newer versions use a different parser for datetime strings, and the old pattern is no longer supported by default."
      ]
    },
    {
      "cell_type": "code",
      "execution_count": null,
      "metadata": {
        "id": "6q-YPzT06odo"
      },
      "outputs": [],
      "source": []
    },
    {
      "cell_type": "markdown",
      "metadata": {
        "id": "FUj4JnVWHd97"
      },
      "source": [
        "### Multiple csv files"
      ]
    },
    {
      "cell_type": "code",
      "execution_count": null,
      "metadata": {
        "id": "Gi8lcUQAHguP"
      },
      "outputs": [],
      "source": [
        "# Pass list of files seperated by comma\n",
        "df = spark.read.csv('file_path_1','file_path_2')"
      ]
    },
    {
      "cell_type": "code",
      "execution_count": null,
      "metadata": {
        "id": "OH4ehpSeHgaL"
      },
      "outputs": [],
      "source": [
        "# Read all files from a directory\n",
        "\n",
        "df = spark.read.csv(\"Folder path\")"
      ]
    },
    {
      "cell_type": "markdown",
      "metadata": {
        "id": "OKf4BvZfLnXW"
      },
      "source": [
        "### Custom user defined schema using StructField and StructType"
      ]
    },
    {
      "cell_type": "code",
      "execution_count": null,
      "metadata": {
        "colab": {
          "base_uri": "https://localhost:8080/"
        },
        "id": "dliBDgmeMYqK",
        "outputId": "7fa1bce9-63f4-422a-959f-116a4f41beea"
      },
      "outputs": [
        {
          "name": "stdout",
          "output_type": "stream",
          "text": [
            "root\n",
            " |-- Index: integer (nullable = true)\n",
            " |-- Customer Id: string (nullable = true)\n",
            " |-- First Name: string (nullable = true)\n",
            " |-- Last Name: string (nullable = true)\n",
            " |-- Company: string (nullable = true)\n",
            " |-- City: string (nullable = true)\n",
            " |-- Country: string (nullable = true)\n",
            " |-- Phone 1: string (nullable = true)\n",
            " |-- Phone 2: string (nullable = true)\n",
            " |-- Email: string (nullable = true)\n",
            " |-- Sub Date: date (nullable = true)\n",
            " |-- Website: string (nullable = true)\n",
            "\n"
          ]
        }
      ],
      "source": [
        "from pyspark.sql.types import StructType,StructField,StringType,IntegerType,DateType\n",
        "\n",
        "\n",
        "custom_schema = StructType([\n",
        "    StructField('Index',IntegerType(),False),\n",
        "StructField('Customer Id',StringType(),False),\n",
        "    StructField('First Name',StringType(),False),\n",
        "    StructField('Last Name',StringType(),False),\n",
        "    StructField('Company',StringType(),False),\n",
        "    StructField('City',StringType(),False),\n",
        "    StructField('Country',StringType(),False),\n",
        "    StructField('Phone 1',StringType(),False),\n",
        "    StructField('Phone 2',StringType(),False),\n",
        "    StructField('Email',StringType(),False),\n",
        "    StructField('Sub Date',DateType(),False),\n",
        "    StructField('Website',StringType(),False),\n",
        "])\n",
        "\n",
        "# df = spark.read.csv(file_path,schema=custom_schema)\n",
        "\n",
        "df = spark.read.format('csv').schema(custom_schema).load(file_path) # schema should be defined before loading the csv\n",
        "df.printSchema()"
      ]
    },
    {
      "cell_type": "markdown",
      "metadata": {
        "id": "6bVKMXJEMtHx"
      },
      "source": [
        "### Writing Data to CSV file"
      ]
    },
    {
      "cell_type": "code",
      "execution_count": null,
      "metadata": {
        "id": "Ytjqx8qHPl_W"
      },
      "outputs": [],
      "source": [
        "# Write to csv file\n",
        "save_csv_path = 'sample_data/sample_output.csv'\n",
        "\n",
        "df.write.csv(save_csv_path, header=True)"
      ]
    },
    {
      "cell_type": "code",
      "execution_count": null,
      "metadata": {
        "id": "iTiEqMmwP1BH"
      },
      "outputs": [],
      "source": []
    },
    {
      "cell_type": "markdown",
      "metadata": {
        "id": "bpU1F1pOQKHl"
      },
      "source": [
        "### List of Params for 'option' - write to csv"
      ]
    },
    {
      "cell_type": "markdown",
      "metadata": {
        "id": "cjBW1k4YQ9Bg"
      },
      "source": [
        "#### list of modes\n",
        "\n",
        "* overwrite – Overwrite the existing file if already exists.\n",
        "\n",
        "* append – New rows are appended to the existing rows.\n",
        "\n",
        "* ignore – When this option is used, it ignores the writing operation when the file already exists.\n",
        "\n",
        "* error – This option returns an error when the file already exists. This is a default option."
      ]
    },
    {
      "cell_type": "code",
      "execution_count": null,
      "metadata": {
        "id": "SHIvKQluQ-tS"
      },
      "outputs": [],
      "source": [
        "save_csv_path = 'sample_output_data'\n",
        "\n",
        "options_dict = {\n",
        "    'header':True,\n",
        "    'delimiter':',',           # we can also use 'sep'\n",
        "    'encoding':'UTF-8',\n",
        "   #  'timestampFormat':'YYYY-MM-DD' - Raise Error\n",
        "    'timestampFormat':'yyyy-MM-dd',\n",
        "    'quote':'\"',                # default: \"\n",
        "    'escape':'\\\\',\n",
        "    'multiline':True,\n",
        "    'nullValue':'NA',\n",
        "    'mode':\"overwrite\",  # “overwrite”, “append”, “ignore”, and “error”\n",
        "    # 'compression':'gzip'\n",
        "\n",
        "}\n",
        "\n",
        "df.write.mode('overwrite').format('csv').options(**options_dict).save(save_csv_path)"
      ]
    },
    {
      "cell_type": "code",
      "execution_count": null,
      "metadata": {
        "id": "ilgwaWRsRjTk"
      },
      "outputs": [],
      "source": []
    }
  ],
  "metadata": {
    "colab": {
      "provenance": []
    },
    "kernelspec": {
      "display_name": "Python 3",
      "name": "python3"
    },
    "language_info": {
      "name": "python"
    }
  },
  "nbformat": 4,
  "nbformat_minor": 0
}
