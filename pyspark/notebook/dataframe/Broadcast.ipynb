{
  "cells": [
    {
      "cell_type": "markdown",
      "metadata": {
        "id": "2q0nP3YxrfoU"
      },
      "source": [
        "### Broadcast\n",
        "\n",
        "It is a read only shared variables that are cached and available to all nodes in the cluster in-order to use and access by all tasks. Pyspark distribute broadcast variable to the workers using efficient broadcast algorithm to reduce communication cost"
      ]
    },
    {
      "cell_type": "code",
      "execution_count": null,
      "metadata": {
        "id": "zPlVXvUhrExB"
      },
      "outputs": [],
      "source": [
        "from pyspark.sql import SparkSession\n",
        "spark = SparkSession.builder.appName('learning').getOrCreate()"
      ]
    },
    {
      "cell_type": "code",
      "execution_count": null,
      "metadata": {
        "id": "EMooJMCc0UOC"
      },
      "outputs": [],
      "source": [
        "global_data = {'1':'one','2':'two','3':'three'}\n",
        "broadcastData = spark.sparkContext.broadcast(global_data)\n",
        "data = [('padhu','1'),('sam','2')]\n",
        "schema = ['name','count']\n"
      ]
    },
    {
      "cell_type": "markdown",
      "metadata": {
        "id": "U1JmXOSUh4Ww"
      },
      "source": [
        "### Working with RDD"
      ]
    },
    {
      "cell_type": "code",
      "execution_count": null,
      "metadata": {
        "colab": {
          "base_uri": "https://localhost:8080/"
        },
        "id": "IYguY1te0LCR",
        "outputId": "ef211dbb-b0b5-498f-d2b6-3ae1a2486ef1"
      },
      "outputs": [
        {
          "data": {
            "text/plain": [
              "3"
            ]
          },
          "execution_count": 12,
          "metadata": {},
          "output_type": "execute_result"
        }
      ],
      "source": [
        "# Creating RDD\n",
        "rdd = spark.sparkContext.parallelize(data,3)\n",
        "rdd.getNumPartitions()"
      ]
    },
    {
      "cell_type": "code",
      "execution_count": null,
      "metadata": {
        "colab": {
          "base_uri": "https://localhost:8080/"
        },
        "id": "aSlx-PWMcVBY",
        "outputId": "ed4663bd-7da5-4333-80b0-ad2d8324a2e5"
      },
      "outputs": [
        {
          "name": "stdout",
          "output_type": "stream",
          "text": [
            "[('padhu', 'one'), ('sam', 'two')]\n"
          ]
        }
      ],
      "source": [
        "# mapping each record in the data\n",
        "\n",
        "stage = rdd.map(lambda x: (x[0],broadcastData.value[x[1]]))\n",
        "result = stage.collect()\n",
        "print(result)"
      ]
    },
    {
      "cell_type": "markdown",
      "metadata": {
        "id": "lBx2stPMh_Oy"
      },
      "source": [
        "### Working with DataFrame"
      ]
    },
    {
      "cell_type": "code",
      "execution_count": null,
      "metadata": {
        "colab": {
          "base_uri": "https://localhost:8080/"
        },
        "id": "ecGZ8UHb2QEV",
        "outputId": "701a83de-3955-4085-cd4e-6f4f8f0cd117"
      },
      "outputs": [
        {
          "output_type": "execute_result",
          "data": {
            "text/plain": [
              "2"
            ]
          },
          "metadata": {},
          "execution_count": 48
        }
      ],
      "source": [
        "# creating dataframe\n",
        "\n",
        "df = spark.createDataFrame(data,schema =schema )\n",
        "df.rdd.getNumPartitions()"
      ]
    },
    {
      "cell_type": "code",
      "execution_count": null,
      "metadata": {
        "colab": {
          "base_uri": "https://localhost:8080/"
        },
        "id": "L3mYadwCaHNH",
        "outputId": "acf7b496-3b60-43fb-941f-aa4abf5cb2c6"
      },
      "outputs": [
        {
          "output_type": "stream",
          "name": "stdout",
          "text": [
            "+-----+---------------+\n",
            "| name|getCount(count)|\n",
            "+-----+---------------+\n",
            "|padhu|            one|\n",
            "|  sam|            two|\n",
            "+-----+---------------+\n",
            "\n"
          ]
        }
      ],
      "source": [
        "# map wont work on df directly, we need to convert df into rdd\n",
        "\n",
        "\n",
        "from pyspark.sql.functions import col,udf\n",
        "\n",
        "def getCount(count):\n",
        "    return broadcastData.value[count]\n",
        "\n",
        "getCountUDF = udf(getCount)\n",
        "\n",
        "modified_df = df.select(df[\"name\"],getCountUDF(df[\"count\"]))\n",
        "modified_df.show()"
      ]
    },
    {
      "cell_type": "markdown",
      "source": [
        "### BroadCast in the filter condition"
      ],
      "metadata": {
        "id": "qFIc0hi0lRwt"
      }
    },
    {
      "cell_type": "code",
      "execution_count": null,
      "metadata": {
        "id": "RvKQDjH4aNCX",
        "colab": {
          "base_uri": "https://localhost:8080/"
        },
        "outputId": "1d6cc23a-98c8-4c22-b496-9341cdf8bf06"
      },
      "outputs": [
        {
          "output_type": "stream",
          "name": "stdout",
          "text": [
            "+-----+-----+\n",
            "| name|count|\n",
            "+-----+-----+\n",
            "|padhu|    1|\n",
            "|  sam|    2|\n",
            "+-----+-----+\n",
            "\n"
          ]
        }
      ],
      "source": [
        "list_of_keys = list(broadcastData.value.keys())\n",
        "\n",
        "filterDF = df.where((df['count'].isin(list_of_keys)))\n",
        "filterDF.show()"
      ]
    },
    {
      "cell_type": "code",
      "source": [
        "print(broadcastData.value.values())\n",
        "\n",
        "print([k for k in broadcastData.value])"
      ],
      "metadata": {
        "colab": {
          "base_uri": "https://localhost:8080/"
        },
        "id": "fJ1QeN6Hlgqn",
        "outputId": "c6d4521c-9089-4798-c9a6-91d64ef10105"
      },
      "execution_count": null,
      "outputs": [
        {
          "output_type": "stream",
          "name": "stdout",
          "text": [
            "dict_values(['one', 'two', 'three'])\n",
            "['1', '2', '3']\n"
          ]
        }
      ]
    },
    {
      "cell_type": "code",
      "source": [],
      "metadata": {
        "id": "NmbnPw4AmeXk"
      },
      "execution_count": null,
      "outputs": []
    }
  ],
  "metadata": {
    "colab": {
      "provenance": []
    },
    "kernelspec": {
      "display_name": "Python 3",
      "name": "python3"
    },
    "language_info": {
      "name": "python"
    }
  },
  "nbformat": 4,
  "nbformat_minor": 0
}